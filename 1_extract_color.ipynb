{
 "cells": [
  {
   "cell_type": "markdown",
   "metadata": {
    "colab_type": "text",
    "id": "BMNW_FgmGkVa"
   },
   "source": [
    "# HSV変換と肌色抽出"
   ]
  },
  {
   "cell_type": "code",
   "execution_count": 1,
   "metadata": {
    "colab": {},
    "colab_type": "code",
    "id": "1JYV7E6f7Z7O"
   },
   "outputs": [],
   "source": [
    "import cv2\n",
    "import numpy as np\n",
    "import matplotlib.pyplot as plt\n",
    "from ipywidgets import widgets\n",
    "\n",
    "%matplotlib inline"
   ]
  },
  {
   "cell_type": "markdown",
   "metadata": {
    "colab_type": "text",
    "id": "knVIksUsLoyV"
   },
   "source": [
    "画像を入力して，HSV に変換する"
   ]
  },
  {
   "cell_type": "code",
   "execution_count": 2,
   "metadata": {
    "colab": {},
    "colab_type": "code",
    "id": "glTeVCXk7fAM"
   },
   "outputs": [],
   "source": [
    "rgb = cv2.imread(\"C:\\\\Users\\\\user\\\\Desktop\\\\WPy64-3830\\\\picture\\\\IMG_0921.JPG\", cv2.IMREAD_COLOR)\n",
    "if rgb is None:\n",
    "    print(f'画像が開けませんでした．', file=sys.stderr)\n",
    "    sys.exit(1)\n",
    "\n",
    "# OpenCV では BGR の順番であることに注意！\n",
    "hsv = cv2.cvtColor(rgb, cv2.COLOR_BGR2HSV)"
   ]
  },
  {
   "cell_type": "markdown",
   "metadata": {
    "colab_type": "text",
    "id": "nUQKbEL9NvvC"
   },
   "source": [
    "関数 inRange の引数「**kwargs」の使い方については，\n",
    "\n",
    "https://dev.classmethod.jp/articles/what-does-asterisk-mean-at-args/\n",
    "\n",
    "に詳しく解説されています．可変長の辞書型引数です．"
   ]
  },
  {
   "cell_type": "code",
   "execution_count": 3,
   "metadata": {
    "colab": {},
    "colab_type": "code",
    "id": "sM-b-_8FU-Hl"
   },
   "outputs": [],
   "source": [
    "def inRange(**kwargs):\n",
    "    lower = tuple([int(l) for l, h in kwargs.values()])\n",
    "    upper = tuple([int(h) for l, h in kwargs.values()])\n",
    "    binary = cv2.inRange(hsv, lowerb=lower, upperb=upper)\n",
    "\n",
    "    fig = plt.figure(figsize=(10, 10))\n",
    "    plt.imshow(binary, cmap='gray')"
   ]
  },
  {
   "cell_type": "code",
   "execution_count": 4,
   "metadata": {
    "colab": {},
    "colab_type": "code",
    "id": "mOMaAEzuVTbe"
   },
   "outputs": [],
   "source": [
    "# パラメータ lower, upper を設定するスライダー\n",
    "description = [\"hue\", \"sat.\", \"val.\"]\n",
    "parts = {}\n",
    "for d in description:\n",
    "    slider = widgets.SelectionRangeSlider(\n",
    "        options=np.arange(256), index=(0, 255), description=d\n",
    "    )\n",
    "    slider.layout.width = \"400px\"\n",
    "\n",
    "    parts[d] = slider"
   ]
  },
  {
   "cell_type": "code",
   "execution_count": 5,
   "metadata": {
    "colab": {},
    "colab_type": "code",
    "id": "MuJg1fGJVinl"
   },
   "outputs": [],
   "source": [
    "# ウィジェットを表示する\n",
    "#widgets.interactive(inRange, **parts)"
   ]
  },
  {
   "cell_type": "code",
   "execution_count": 6,
   "metadata": {},
   "outputs": [],
   "source": [
    "mask = cv2.inRange(hsv,(10,20,0),(20,255,255))\n",
    "##mask2 = cv2.inRange(hsv,(170,255,255),(180,255,255))\n",
    "##mask = cv2.bitwise_or(mask1,mask2)\n",
    "\n",
    "kernel = cv2.getStructuringElement(cv2.MORPH_ELLIPSE, (5, 5))\n",
    "mask = cv2.morphologyEx(mask, cv2.MORPH_OPEN, kernel)\n",
    "mask = cv2.morphologyEx(mask, cv2.MORPH_CLOSE, kernel)"
   ]
  },
  {
   "cell_type": "code",
   "execution_count": 7,
   "metadata": {},
   "outputs": [],
   "source": [
    "nLabels, labelImages, data, center = cv2.connectedComponentsWithStats(mask)"
   ]
  },
  {
   "cell_type": "code",
   "execution_count": 8,
   "metadata": {},
   "outputs": [
    {
     "name": "stdout",
     "output_type": "stream",
     "text": [
      "16.024131681693945\n"
     ]
    },
    {
     "data": {
      "text/plain": [
       "<matplotlib.image.AxesImage at 0x240cb160f10>"
      ]
     },
     "execution_count": 8,
     "metadata": {},
     "output_type": "execute_result"
    },
    {
     "data": {
      "image/png": "[encoded data removed]",
      "text/plain": [
       "<Figure size 432x288 with 1 Axes>"
      ]
     },
     "metadata": {
      "needs_background": "light"
     },
     "output_type": "display_data"
    }
   ],
   "source": [
    "plt.imshow(mask,cmap=\"gray\")\n",
    "max_label = 0\n",
    "max_pixels = 0\n",
    "for l in range(1, nLabels):\n",
    "    if data[l, 4] > 10000:\n",
    "        if max_pixels < data[l, 4]:\n",
    "            max_label = l\n",
    "            max_pixels = data[l, 4]\n",
    "\n",
    "newbanana = np.where(labelImages == max_label, 255, 0).astype('uint8')\n",
    "\n",
    "h, w = hsv.shape[0], hsv.shape[1]\n",
    "#print(h, w)\n",
    "\n",
    "average = 0.0\n",
    "n = 0\n",
    "for y in range(h):\n",
    "    for x in range(w):\n",
    "        if mask[y, x] == 255:\n",
    "            average += hsv[y, x, 0]\n",
    "            n += 1\n",
    "\n",
    "average /= n\n",
    "print(average)\n",
    "\n",
    "banana = rgb[data[7][1]:data[7][1]+data[7][3],data[7][0]:data[7][0]+data[7][2]].copy()\n",
    "plt.imshow(newbanana,cmap=\"gray\")"
   ]
  },
  {
   "cell_type": "code",
   "execution_count": null,
   "metadata": {},
   "outputs": [],
   "source": []
  },
  {
   "cell_type": "code",
   "execution_count": 9,
   "metadata": {},
   "outputs": [
    {
     "ename": "NameError",
     "evalue": "name 'windowName' is not defined",
     "output_type": "error",
     "traceback": [
      "\u001b[1;31m---------------------------------------------------------------------------\u001b[0m",
      "\u001b[1;31mNameError\u001b[0m                                 Traceback (most recent call last)",
      "\u001b[1;32m<ipython-input-9-951ccebd6011>\u001b[0m in \u001b[0;36m<module>\u001b[1;34m\u001b[0m\n\u001b[1;32m----> 1\u001b[1;33m \u001b[0mcandidate_threshold\u001b[0m \u001b[1;33m=\u001b[0m \u001b[1;36m10\u001b[0m \u001b[1;33m*\u001b[0m \u001b[0mcv2\u001b[0m\u001b[1;33m.\u001b[0m\u001b[0mgetTrackbarPos\u001b[0m\u001b[1;33m(\u001b[0m\u001b[1;34m'region threshold'\u001b[0m\u001b[1;33m,\u001b[0m \u001b[0mwindowName\u001b[0m\u001b[1;33m[\u001b[0m\u001b[1;36m1\u001b[0m\u001b[1;33m]\u001b[0m\u001b[1;33m)\u001b[0m\u001b[1;33m\u001b[0m\u001b[1;33m\u001b[0m\u001b[0m\n\u001b[0m\u001b[0;32m      2\u001b[0m \u001b[0mcandidate_index\u001b[0m \u001b[1;33m=\u001b[0m \u001b[0mnp\u001b[0m\u001b[1;33m.\u001b[0m\u001b[0mwhere\u001b[0m\u001b[1;33m(\u001b[0m\u001b[0mdata\u001b[0m\u001b[1;33m[\u001b[0m\u001b[1;33m:\u001b[0m\u001b[1;33m,\u001b[0m \u001b[1;36m4\u001b[0m\u001b[1;33m]\u001b[0m \u001b[1;33m>\u001b[0m \u001b[0mcandidate_threshold\u001b[0m\u001b[1;33m)\u001b[0m\u001b[1;33m\u001b[0m\u001b[1;33m\u001b[0m\u001b[0m\n",
      "\u001b[1;31mNameError\u001b[0m: name 'windowName' is not defined"
     ]
    }
   ],
   "source": [
    "candidate_threshold = 10 * cv2.getTrackbarPos('region threshold', windowName[1])\n",
    "candidate_index = np.where(data[:, 4] > candidate_threshold)"
   ]
  },
  {
   "cell_type": "code",
   "execution_count": null,
   "metadata": {
    "colab": {},
    "colab_type": "code",
    "id": "2OPD-uRYPvqx"
   },
   "outputs": [],
   "source": [
    "hsv_in_mask = hsv[mask==255]#二値化された白いとこのHSVの値を取り出した。（H,S,V、の三つの値の数字が格納されています。）\n",
    "print(type(hsv_in_mask), hsv_in_mask[:,0:2].shape)"
   ]
  },
  {
   "cell_type": "code",
   "execution_count": null,
   "metadata": {
    "colab": {},
    "colab_type": "code",
    "id": "Sx9SMnDXP_Wq"
   },
   "outputs": [],
   "source": [
    "import pandas as pd\n",
    "import seaborn as sns\n",
    "\n",
    "df_hs = pd.DataFrame(data=hsv_in_mask[:,0:2], columns=['hue', 'sat.'], dtype='uint8')\n",
    "\n",
    "sns.set()\n",
    "sns.set_style(\"whitegrid\")\n",
    "fig_hs = sns.scatterplot(x='hue', y='sat.', data=df_hs, alpha=0.5)\n",
    "fig_hs.set(xlim=(-10,190), ylim=(-10,266))"
   ]
  },
  {
   "cell_type": "code",
   "execution_count": null,
   "metadata": {},
   "outputs": [],
   "source": []
  },
  {
   "cell_type": "code",
   "execution_count": null,
   "metadata": {
    "colab": {},
    "colab_type": "code",
    "id": "B_Q7rP84SPWh"
   },
   "outputs": [],
   "source": [
    "lab = cv2.cvtColor(rgb, cv2.COLOR_BGR2Lab)\n",
    "lab_in_mask = lab[mask==255]\n",
    "\n",
    "df_ab = pd.DataFrame(data=lab_in_mask[:,1:3], columns=['a', 'b'], dtype='uint8')\n",
    "\n",
    "sns.set()\n",
    "sns.set_style(\"whitegrid\")\n",
    "fig_ab = sns.scatterplot(x='a', y='b', data=df_ab, alpha=0.5)\n",
    "fig_ab.set(xlim=(-10,266), ylim=(-10,266), aspect='equal')"
   ]
  },
  {
   "cell_type": "code",
   "execution_count": null,
   "metadata": {
    "colab": {},
    "colab_type": "code",
    "id": "KnLk3Iv0Vopb"
   },
   "outputs": [],
   "source": []
  }
 ],
 "metadata": {
  "colab": {
   "collapsed_sections": [],
   "name": "1_extract_color.ipynb",
   "provenance": []
  },
  "kernelspec": {
   "display_name": "Python 3",
   "language": "python",
   "name": "python3"
  },
  "language_info": {
   "codemirror_mode": {
    "name": "ipython",
    "version": 3
   },
   "file_extension": ".py",
   "mimetype": "text/x-python",
   "name": "python",
   "nbconvert_exporter": "python",
   "pygments_lexer": "ipython3",
   "version": "3.8.3"
  }
 },
 "nbformat": 4,
 "nbformat_minor": 1
}
